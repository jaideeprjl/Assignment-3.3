{
 "cells": [
  {
   "cell_type": "markdown",
   "metadata": {},
   "source": [
    "Assignment 3.3\n",
    "\n",
    "Implement a function longestWord() that takes a list of words and returns the longest\n",
    "one."
   ]
  },
  {
   "cell_type": "code",
   "execution_count": 2,
   "metadata": {},
   "outputs": [
    {
     "name": "stdout",
     "output_type": "stream",
     "text": [
      "Please input a list of words to evaluate: we are testing long words\n",
      "The longest word is - testing - with length 7\n"
     ]
    }
   ],
   "source": [
    "def longestword(text):\n",
    "    longest,longest_word = 0,\"\"\n",
    "    \n",
    "    for words in text.split():\n",
    "        if len(words) > longest:\n",
    "            longest = len(words)\n",
    "            longest_word = words\n",
    "    return( longest_word ,longest)\n",
    "    \n",
    "\n",
    "result,lenword=longestword(input(\"Please input a list of words to evaluate: \"))\n",
    "print(\"The longest word is -\", result ,\"- with length\", lenword)\n"
   ]
  }
 ],
 "metadata": {
  "kernelspec": {
   "display_name": "Python 3",
   "language": "python",
   "name": "python3"
  },
  "language_info": {
   "codemirror_mode": {
    "name": "ipython",
    "version": 3
   },
   "file_extension": ".py",
   "mimetype": "text/x-python",
   "name": "python",
   "nbconvert_exporter": "python",
   "pygments_lexer": "ipython3",
   "version": "3.6.5"
  }
 },
 "nbformat": 4,
 "nbformat_minor": 2
}
